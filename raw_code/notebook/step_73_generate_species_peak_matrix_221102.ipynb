{
 "cells": [
  {
   "cell_type": "code",
   "execution_count": null,
   "id": "544e5d27-d144-4172-9650-62f3c4e82196",
   "metadata": {},
   "outputs": [],
   "source": [
    "#####################################################################################\n",
    "## Project: macaque SP brain                                                       ##\n",
    "## Script Purpose: generate species peak matrix                                    ##\n",
    "## Data: 2022.11.02                                                                ##\n",
    "## Author: Yiming Sun                                                              ##\n",
    "#####################################################################################\n",
    "\n",
    "#sleep\n",
    "ii <- 1\n",
    "while(1){\n",
    "  cat(paste(\"round\",ii),sep = \"\\n\")\n",
    "  ii <- ii+1\n",
    "  Sys.sleep(30)\n",
    "}"
   ]
  },
  {
   "cell_type": "code",
   "execution_count": null,
   "id": "f6b6998f-a8aa-40b6-86c1-e24dba5f3d05",
   "metadata": {},
   "outputs": [],
   "source": [
    "#general setting\n",
    "setwd('/content/data/sunym/project/Brain')\n",
    ".libPaths('/home/sunym/env/R_4.2.1/lib/R/library')\n",
    "Sys.setenv(HDF5_USE_FILE_LOCKING=FALSE,RHDF5_USE_FILE_LOCKING=FALSE)\n",
    "\n",
    "#library\n",
    "library(Rmisc)\n",
    "library(Seurat)\n",
    "library(ggplot2)\n",
    "library(dplyr)\n",
    "library(scibet)\n",
    "library(Matrix)\n",
    "library(tidyverse)\n",
    "library(cowplot)\n",
    "library(viridis)\n",
    "library(ComplexHeatmap)\n",
    "library(parallel)\n",
    "library(ggsignif)\n",
    "library(RColorBrewer)\n",
    "library(ggsci)\n",
    "library(scales)\n",
    "library(patchwork)\n",
    "library(ggpointdensity)\n",
    "library(latex2exp)\n",
    "library(ArchR)\n",
    "library(scales)\n",
    "library(circlize)\n",
    "library(ggpubr)\n",
    "library(ggtext)\n",
    "library(BSgenome.Hsapiens.UCSC.hg38)\n",
    "library(BSgenome.Mmulatta.UCSC.rheMac10)\n",
    "library(UpSetR)\n",
    "library(ggbreak)\n",
    "library(ggvenn)\n",
    "library(EnrichedHeatmap)\n",
    "library(ChIPseeker)\n",
    "library(org.Hs.eg.db)\n",
    "library(org.Mmu.eg.db)\n",
    "library(DESeq2)\n",
    "library(topGO)\n",
    "library(clusterProfiler)\n",
    "\n",
    "#my function\n",
    "source('https://raw.githubusercontent.com/yimingsun12138/source_list/main/sc_multiomics.R')\n",
    "source('https://raw.githubusercontent.com/yimingsun12138/source_list/main/genomics.R')\n",
    "source('/content/script/twilio_send_messages.R')\n",
    "\n",
    "#initialize ArchR\n",
    "addArchRThreads(threads = 5)"
   ]
  },
  {
   "cell_type": "markdown",
   "id": "864ba35d-b0ec-4528-9acf-2fedf4f2ab6e",
   "metadata": {},
   "source": [
    "## generate species homology peaks"
   ]
  },
  {
   "cell_type": "code",
   "execution_count": null,
   "id": "c3d7bd38-88fa-47ba-b69e-b1ac109df8d8",
   "metadata": {},
   "outputs": [],
   "source": [
    "#load ArchR project\n",
    "Greenleaf_ATAC_ArchR <- loadArchRProject(path = './processed_data/221008_summary/Greenleaf_ATAC_ArchR_221019/')\n",
    "macaque_multiome_ArchR <- loadArchRProject(path = './processed_data/221008_summary/macaque_multiome_ArchR_221011/')\n",
    "mouse_multiome_ArchR <- loadArchRProject(path = './processed_data/221008_summary/mouse_multiome_ArchR_221009/')"
   ]
  },
  {
   "cell_type": "code",
   "execution_count": null,
   "id": "bbeb1ddc-8fd8-4236-9905-c87cea982040",
   "metadata": {},
   "outputs": [],
   "source": [
    "#convert macaque homology peaks (mismatch 0.1)\n",
    "par <- 0.1\n",
    "query_peakset <- getPeakSet(ArchRProj = macaque_multiome_ArchR)\n",
    "subject_peakset <- getPeakSet(ArchRProj = Greenleaf_ATAC_ArchR)\n",
    "query_peakset <- my_unique_peakset_liftover(ori_GRanges = query_peakset,\n",
    "                                            UCSC_liftOver_path = '~/software/UCSC_liftOver/liftOver',\n",
    "                                            chain_file = './data/reference/UCSC_chain_file_for_liftOver/rheMac10ToHg38.over.chain',\n",
    "                                            liftOver_mismatch = par,\n",
    "                                            length_filter = TRUE,\n",
    "                                            length_mismatch = par,\n",
    "                                            chr_filter = TRUE,\n",
    "                                            mapped_chr = unique(subject_peakset@seqnames),\n",
    "                                            overlap_filter = TRUE,\n",
    "                                            tmp_path = '~/temp')\n",
    "macaque_peakset <- query_peakset"
   ]
  },
  {
   "cell_type": "code",
   "execution_count": null,
   "id": "084353c0-335a-4eed-bd03-3d2a6f3b0fd4",
   "metadata": {},
   "outputs": [],
   "source": [
    "#convert mouse homology peaks (mismatch 0.4)\n",
    "par <- 0.4\n",
    "query_peakset <- getPeakSet(ArchRProj = mouse_multiome_ArchR)\n",
    "subject_peakset <- getPeakSet(ArchRProj = Greenleaf_ATAC_ArchR)\n",
    "query_peakset <- my_unique_peakset_liftover(ori_GRanges = query_peakset,\n",
    "                                            UCSC_liftOver_path = '~/software/UCSC_liftOver/liftOver',\n",
    "                                            chain_file = './data/reference/UCSC_chain_file_for_liftOver/mm10ToHg38.over.chain',\n",
    "                                            liftOver_mismatch = par,\n",
    "                                            length_filter = TRUE,\n",
    "                                            length_mismatch = par,\n",
    "                                            chr_filter = TRUE,\n",
    "                                            mapped_chr = unique(subject_peakset@seqnames),\n",
    "                                            overlap_filter = TRUE,\n",
    "                                            tmp_path = '~/temp')\n",
    "mouse_peakset <- query_peakset"
   ]
  },
  {
   "cell_type": "code",
   "execution_count": null,
   "id": "f9674db2-e531-46ad-9c4d-81585d46aa2f",
   "metadata": {},
   "outputs": [],
   "source": [
    "#merge with human peakset\n",
    "Brain_peakset <- my_bedtools_merge(peakset_x = macaque_peakset$mapped,\n",
    "                                   peakset_y =  getPeakSet(ArchRProj = Greenleaf_ATAC_ArchR),\n",
    "                                   bedtools_path = '~/software/bedtools/bedtools',\n",
    "                                   tmp_path = '~/temp')\n",
    "Brain_peakset <- my_bedtools_merge(peakset_x = mouse_peakset$mapped,\n",
    "                                   peakset_y = Brain_peakset,\n",
    "                                   bedtools_path = '~/software/bedtools/bedtools',\n",
    "                                   tmp_path = '~/temp')"
   ]
  },
  {
   "cell_type": "code",
   "execution_count": null,
   "id": "6e412838-10c6-4054-9774-6933edd7fe4f",
   "metadata": {},
   "outputs": [],
   "source": [
    "#re-liftover to macaque\n",
    "par = 0.1\n",
    "macaque_peakset <- my_unique_peakset_liftover(ori_GRanges = Brain_peakset,\n",
    "                                              UCSC_liftOver_path = '~/software/UCSC_liftOver/liftOver',\n",
    "                                              chain_file = './data/reference/UCSC_chain_file_for_liftOver/hg38ToRheMac10.over.chain',\n",
    "                                              liftOver_mismatch = par,\n",
    "                                              length_filter = TRUE,\n",
    "                                              length_mismatch = par,\n",
    "                                              chr_filter = TRUE,\n",
    "                                              mapped_chr = unique(getPeakSet(ArchRProj = macaque_multiome_ArchR)@seqnames),\n",
    "                                              overlap_filter = TRUE,\n",
    "                                              tmp_path = '~/temp')"
   ]
  },
  {
   "cell_type": "code",
   "execution_count": null,
   "id": "e17aafec-b396-4fcf-ae12-a3daa3f086aa",
   "metadata": {},
   "outputs": [],
   "source": [
    "#re-liftover to mouse\n",
    "par = 0.4\n",
    "mouse_peakset <- my_unique_peakset_liftover(ori_GRanges = macaque_peakset$ori,\n",
    "                                            UCSC_liftOver_path = '~/software/UCSC_liftOver/liftOver',\n",
    "                                            chain_file = './data/reference/UCSC_chain_file_for_liftOver/hg38ToMm10.over.chain',\n",
    "                                            liftOver_mismatch = par,\n",
    "                                            length_filter = TRUE,\n",
    "                                            length_mismatch = par,\n",
    "                                            chr_filter = TRUE,\n",
    "                                            mapped_chr = unique(getPeakSet(ArchRProj = mouse_multiome_ArchR)@seqnames),\n",
    "                                            overlap_filter = TRUE,\n",
    "                                            tmp_path = '~/temp')"
   ]
  },
  {
   "cell_type": "code",
   "execution_count": null,
   "id": "2d6fc794-d7ba-48ce-b57e-da208a94c897",
   "metadata": {},
   "outputs": [],
   "source": [
    "#generate final peakset\n",
    "human_peakset <- mouse_peakset$ori\n",
    "names(macaque_peakset$mapped) <- macaque_peakset$mapped$name\n",
    "names(mouse_peakset$mapped) <- mouse_peakset$mapped$name\n",
    "\n",
    "macaque_peakset <- macaque_peakset$mapped[c(names(human_peakset))]\n",
    "mouse_peakset <- mouse_peakset$mapped[c(names(human_peakset))]"
   ]
  },
  {
   "cell_type": "code",
   "execution_count": null,
   "id": "48040d83-fddf-4462-9530-ec8a8e2b527b",
   "metadata": {},
   "outputs": [],
   "source": [
    "Brain_ATAC_peak <- SimpleList(human = human_peakset,macaque = macaque_peakset,mouse = mouse_peakset)"
   ]
  },
  {
   "cell_type": "code",
   "execution_count": null,
   "id": "af47a87f-440a-4b09-8b40-ded937288a80",
   "metadata": {},
   "outputs": [],
   "source": [
    "#save data\n",
    "saveRDS(object = Brain_ATAC_peak,file = './res/step_73_fig_221102/Brain_ATAC_peak.rds')"
   ]
  },
  {
   "cell_type": "markdown",
   "id": "29e1c6fa-5f50-413c-967a-ede31f71a0b1",
   "metadata": {},
   "source": [
    "## generate human peak matrix"
   ]
  },
  {
   "cell_type": "code",
   "execution_count": null,
   "id": "903afa9a-bb7d-40c9-8af8-1ad1ad989de9",
   "metadata": {},
   "outputs": [],
   "source": [
    "#load data\n",
    "Brain_ATAC_peak <- readRDS(file = './res/step_73_fig_221102/Brain_ATAC_peak.rds')\n",
    "Greenleaf_ATAC_ArchR <- loadArchRProject(path = './processed_data/221008_summary/Greenleaf_ATAC_ArchR_221019/')"
   ]
  },
  {
   "cell_type": "code",
   "execution_count": null,
   "id": "cc65ee50-b503-4bb2-9b79-d2cd65af3e30",
   "metadata": {},
   "outputs": [],
   "source": [
    "#re-craete an ArchR project\n",
    "temp <- getArrowFiles(ArchRProj = Greenleaf_ATAC_ArchR)\n",
    "file.exists(temp)\n",
    "temp <- ArchRProject(\n",
    "  ArrowFiles = temp,\n",
    "  outputDirectory = '~/temp/Greenleaf_ATAC_ArchR',\n",
    "  copyArrows = TRUE,\n",
    "  geneAnnotation = getGeneAnnotation(ArchRProj = Greenleaf_ATAC_ArchR),\n",
    "  genomeAnnotation = getGenomeAnnotation(ArchRProj = Greenleaf_ATAC_ArchR)\n",
    ")"
   ]
  },
  {
   "cell_type": "code",
   "execution_count": null,
   "id": "1b2f1421-b156-4e0f-b8b5-130fb7253e69",
   "metadata": {},
   "outputs": [],
   "source": [
    "#count peak matrix\n",
    "temp <- temp[rownames(Greenleaf_ATAC_ArchR@cellColData)]\n",
    "temp$cell_type <- Greenleaf_ATAC_ArchR$cell_type\n",
    "table(temp$cell_type)\n",
    "temp <- addPeakSet(ArchRProj = temp,peakSet = Brain_ATAC_peak$human)\n",
    "temp <- addPeakMatrix(ArchRProj = temp)\n",
    "getAvailableMatrices(ArchRProj = temp)"
   ]
  },
  {
   "cell_type": "code",
   "execution_count": null,
   "id": "f27892ac-33c1-4f28-baf2-931c3c641457",
   "metadata": {},
   "outputs": [],
   "source": [
    "#get peak matrix\n",
    "peak_matrix <- getMatrixFromProject(ArchRProj = temp,useMatrix = 'PeakMatrix',verbose = TRUE)\n",
    "gene_list <- paste(peak_matrix@rowRanges@seqnames,as.character(peak_matrix@rowRanges@ranges),sep = '-')\n",
    "peak_matrix <- peak_matrix@assays@data$PeakMatrix\n",
    "rownames(peak_matrix) <- gene_list"
   ]
  },
  {
   "cell_type": "code",
   "execution_count": null,
   "id": "6cf795f6-efa2-4c70-9f10-c0fcd0f7a8d9",
   "metadata": {},
   "outputs": [],
   "source": [
    "#save peak_matrix\n",
    "saveRDS(object = peak_matrix,file = './res/step_73_fig_221102/human_peak_matrix.rds')"
   ]
  },
  {
   "cell_type": "code",
   "execution_count": null,
   "id": "10c50d0c-b9b9-439f-8df7-f8436eac8a4b",
   "metadata": {},
   "outputs": [],
   "source": [
    "#get grouped peak matrix\n",
    "temp$sample_cell_type <- paste(temp$Sample,temp$cell_type,sep = '_')\n",
    "table(temp$sample_cell_type)\n",
    "grouped_peak_matrix <- getGroupSE(ArchRProj = temp,useMatrix = 'PeakMatrix',\n",
    "                                  groupBy = 'sample_cell_type',divideN = FALSE)"
   ]
  },
  {
   "cell_type": "code",
   "execution_count": null,
   "id": "ee67275b-2c91-4a94-82ba-fd982949574d",
   "metadata": {},
   "outputs": [],
   "source": [
    "#save grouped peak matrix\n",
    "saveRDS(object = grouped_peak_matrix,file = './res/step_73_fig_221102/human_grouped_peak_matrix.rds')"
   ]
  },
  {
   "cell_type": "markdown",
   "id": "1aa6209c-8e59-4186-bc3d-b85ee661f65f",
   "metadata": {},
   "source": [
    "## generate macaque peak matrix"
   ]
  },
  {
   "cell_type": "code",
   "execution_count": null,
   "id": "051c7760-4ed0-4774-be77-99e11ff849f8",
   "metadata": {},
   "outputs": [],
   "source": [
    "#load data\n",
    "Brain_ATAC_peak <- readRDS(file = './res/step_73_fig_221102/Brain_ATAC_peak.rds')\n",
    "macaque_multiome_ArchR <- loadArchRProject(path = './processed_data/221008_summary/macaque_multiome_ArchR_221011/')\n",
    "\n",
    "#re-craete an ArchR project\n",
    "temp <- getArrowFiles(ArchRProj = macaque_multiome_ArchR)\n",
    "file.exists(temp)\n",
    "temp <- ArchRProject(\n",
    "  ArrowFiles = temp,\n",
    "  outputDirectory = '~/temp/macaque_multiome_ArchR',\n",
    "  copyArrows = TRUE,\n",
    "  geneAnnotation = getGeneAnnotation(ArchRProj = macaque_multiome_ArchR),\n",
    "  genomeAnnotation = getGenomeAnnotation(ArchRProj = macaque_multiome_ArchR)\n",
    ")"
   ]
  },
  {
   "cell_type": "code",
   "execution_count": null,
   "id": "d76d9343-84c4-4a91-8f9c-596c6abdf466",
   "metadata": {},
   "outputs": [],
   "source": [
    "#count peak matrix\n",
    "temp <- temp[rownames(macaque_multiome_ArchR@cellColData)]\n",
    "temp$cell_type <- macaque_multiome_ArchR$cell_type\n",
    "table(temp$cell_type)\n",
    "temp <- addPeakSet(ArchRProj = temp,peakSet = Brain_ATAC_peak$macaque)\n",
    "temp <- addPeakMatrix(ArchRProj = temp)\n",
    "getAvailableMatrices(ArchRProj = temp)"
   ]
  },
  {
   "cell_type": "code",
   "execution_count": null,
   "id": "8597806b-8515-4c65-8059-ad6cd42a67fe",
   "metadata": {},
   "outputs": [],
   "source": [
    "#get peak matrix\n",
    "peak_matrix <- getMatrixFromProject(ArchRProj = temp,useMatrix = 'PeakMatrix',verbose = TRUE)\n",
    "gene_list <- paste(peak_matrix@rowRanges@seqnames,as.character(peak_matrix@rowRanges@ranges),sep = '-')\n",
    "peak_matrix <- peak_matrix@assays@data$PeakMatrix\n",
    "rownames(peak_matrix) <- gene_list"
   ]
  },
  {
   "cell_type": "code",
   "execution_count": null,
   "id": "f25498cf-8298-4292-94b8-01f23ffdd604",
   "metadata": {},
   "outputs": [],
   "source": [
    "#save peak_matrix\n",
    "saveRDS(object = peak_matrix,file = './res/step_73_fig_221102/macaque_peak_matrix.rds')"
   ]
  },
  {
   "cell_type": "code",
   "execution_count": null,
   "id": "4c7c7a13-27bf-408d-9500-f6637d941bc9",
   "metadata": {},
   "outputs": [],
   "source": [
    "#get grouped peak matrix\n",
    "temp$sample_cell_type <- paste(temp$Sample,temp$cell_type,sep = '_')\n",
    "table(temp$sample_cell_type)\n",
    "grouped_peak_matrix <- getGroupSE(ArchRProj = temp,useMatrix = 'PeakMatrix',\n",
    "                                  groupBy = 'sample_cell_type',divideN = FALSE)"
   ]
  },
  {
   "cell_type": "code",
   "execution_count": null,
   "id": "15de62ef-8555-4fef-a192-eaae24a9a9ef",
   "metadata": {},
   "outputs": [],
   "source": [
    "#save grouped peak matrix\n",
    "saveRDS(object = grouped_peak_matrix,file = './res/step_73_fig_221102/macaque_grouped_peak_matrix.rds')"
   ]
  },
  {
   "cell_type": "markdown",
   "id": "c92c816f-1ad1-4a55-83be-b9a26f207099",
   "metadata": {},
   "source": [
    "## generate mouse peak matrix"
   ]
  },
  {
   "cell_type": "code",
   "execution_count": null,
   "id": "45f8a9c1-e47f-4ba4-a1fb-446b9d7ffaa4",
   "metadata": {},
   "outputs": [],
   "source": [
    "#load data\n",
    "Brain_ATAC_peak <- readRDS(file = './res/step_73_fig_221102/Brain_ATAC_peak.rds')\n",
    "mouse_multiome_ArchR <- loadArchRProject(path = './processed_data/221008_summary/mouse_multiome_ArchR_221009/')\n",
    "\n",
    "#re-craete an ArchR project\n",
    "temp <- getArrowFiles(ArchRProj = mouse_multiome_ArchR)\n",
    "file.exists(temp)\n",
    "temp <- ArchRProject(\n",
    "  ArrowFiles = temp,\n",
    "  outputDirectory = '~/temp/mouse_multiome_ArchR',\n",
    "  copyArrows = TRUE,\n",
    "  geneAnnotation = getGeneAnnotation(ArchRProj = mouse_multiome_ArchR),\n",
    "  genomeAnnotation = getGenomeAnnotation(ArchRProj = mouse_multiome_ArchR)\n",
    ")"
   ]
  },
  {
   "cell_type": "code",
   "execution_count": null,
   "id": "8eb89bcc-bf57-4b3b-aeb4-c4bfe378a6c8",
   "metadata": {},
   "outputs": [],
   "source": [
    "#count peak matrix\n",
    "temp <- temp[rownames(mouse_multiome_ArchR@cellColData)]\n",
    "temp$cell_type <- mouse_multiome_ArchR$Gex_macaque_cell_type\n",
    "table(temp$cell_type)\n",
    "temp <- addPeakSet(ArchRProj = temp,peakSet = Brain_ATAC_peak$mouse)\n",
    "temp <- addPeakMatrix(ArchRProj = temp)\n",
    "getAvailableMatrices(ArchRProj = temp)"
   ]
  },
  {
   "cell_type": "code",
   "execution_count": null,
   "id": "981241a2-6dd0-467c-afb5-25b610e3d909",
   "metadata": {},
   "outputs": [],
   "source": [
    "#get peak matrix\n",
    "peak_matrix <- getMatrixFromProject(ArchRProj = temp,useMatrix = 'PeakMatrix',verbose = TRUE)\n",
    "gene_list <- paste(peak_matrix@rowRanges@seqnames,as.character(peak_matrix@rowRanges@ranges),sep = '-')\n",
    "peak_matrix <- peak_matrix@assays@data$PeakMatrix\n",
    "rownames(peak_matrix) <- gene_list"
   ]
  },
  {
   "cell_type": "code",
   "execution_count": null,
   "id": "18007bda-4af7-47f6-86b7-1e9e0f22052d",
   "metadata": {},
   "outputs": [],
   "source": [
    "#save peak_matrix\n",
    "saveRDS(object = peak_matrix,file = './res/step_73_fig_221102/mouse_peak_matrix.rds')"
   ]
  },
  {
   "cell_type": "code",
   "execution_count": null,
   "id": "75d61401-52b9-449d-91ee-1e722123a0fc",
   "metadata": {},
   "outputs": [],
   "source": [
    "#get grouped peak matrix\n",
    "temp$sample_cell_type <- paste(temp$Sample,temp$cell_type,sep = '_')\n",
    "table(temp$sample_cell_type)\n",
    "grouped_peak_matrix <- getGroupSE(ArchRProj = temp,useMatrix = 'PeakMatrix',\n",
    "                                  groupBy = 'sample_cell_type',divideN = FALSE)"
   ]
  },
  {
   "cell_type": "code",
   "execution_count": 16,
   "id": "8f3c6792-e7d1-452b-b0e5-0724698db1bc",
   "metadata": {},
   "outputs": [],
   "source": [
    "#save grouped peak matrix\n",
    "saveRDS(object = grouped_peak_matrix,file = './res/step_73_fig_221102/mouse_grouped_peak_matrix.rds')"
   ]
  }
 ],
 "metadata": {
  "kernelspec": {
   "display_name": "R 4.2.1",
   "language": "R",
   "name": "ir421"
  },
  "language_info": {
   "codemirror_mode": "r",
   "file_extension": ".r",
   "mimetype": "text/x-r-source",
   "name": "R",
   "pygments_lexer": "r",
   "version": "4.2.1"
  }
 },
 "nbformat": 4,
 "nbformat_minor": 5
}
