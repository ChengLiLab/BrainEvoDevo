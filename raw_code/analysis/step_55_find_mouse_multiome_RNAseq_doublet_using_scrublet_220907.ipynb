{
 "cells": [
  {
   "cell_type": "markdown",
   "id": "932ba47d-2689-4675-8932-5762bb060fbe",
   "metadata": {},
   "source": [
    "# Try to remove doublet from mouse multiome RNAseq data by Scrublet"
   ]
  },
  {
   "cell_type": "code",
   "execution_count": 1,
   "id": "84a8d6da-cb3e-47de-95c4-2cc4dd2db908",
   "metadata": {},
   "outputs": [],
   "source": [
    "%matplotlib inline\n",
    "import scrublet as scr\n",
    "import scipy.io\n",
    "import matplotlib.pyplot as plt\n",
    "import numpy as np\n",
    "import os\n",
    "import pandas as pd"
   ]
  },
  {
   "cell_type": "code",
   "execution_count": 2,
   "id": "ae67b757-79eb-4c44-9450-15fc7629275c",
   "metadata": {},
   "outputs": [],
   "source": [
    "plt.rcParams['font.family'] = 'sans-serif'\n",
    "plt.rcParams['font.sans-serif'] = 'Arial'\n",
    "plt.rc('font', size=14)\n",
    "plt.rcParams['pdf.fonttype'] = 42"
   ]
  },
  {
   "cell_type": "code",
   "execution_count": 3,
   "id": "163e6b39-6de3-44c6-ae2f-eeaec971538f",
   "metadata": {},
   "outputs": [
    {
     "data": {
      "text/plain": [
       "'/data/User/sunym/temp'"
      ]
     },
     "execution_count": 3,
     "metadata": {},
     "output_type": "execute_result"
    }
   ],
   "source": [
    "os.chdir('/data/User/sunym/temp/')\n",
    "os.getcwd()"
   ]
  },
  {
   "cell_type": "markdown",
   "id": "12cc70a6-089b-450a-888b-4c1365a70c44",
   "metadata": {},
   "source": [
    "## E145_2"
   ]
  },
  {
   "cell_type": "markdown",
   "id": "226b7e9e-3ec2-4f5d-9e07-02c95d9b76a5",
   "metadata": {},
   "source": [
    "### read data"
   ]
  },
  {
   "cell_type": "code",
   "execution_count": 4,
   "id": "55afd593-8e12-464c-bab7-2466780c7ee4",
   "metadata": {},
   "outputs": [
    {
     "data": {
      "text/html": [
       "<div>\n",
       "<style scoped>\n",
       "    .dataframe tbody tr th:only-of-type {\n",
       "        vertical-align: middle;\n",
       "    }\n",
       "\n",
       "    .dataframe tbody tr th {\n",
       "        vertical-align: top;\n",
       "    }\n",
       "\n",
       "    .dataframe thead th {\n",
       "        text-align: right;\n",
       "    }\n",
       "</style>\n",
       "<table border=\"1\" class=\"dataframe\">\n",
       "  <thead>\n",
       "    <tr style=\"text-align: right;\">\n",
       "      <th></th>\n",
       "      <th>0</th>\n",
       "      <th>1</th>\n",
       "      <th>2</th>\n",
       "      <th>3</th>\n",
       "      <th>4</th>\n",
       "      <th>5</th>\n",
       "      <th>6</th>\n",
       "      <th>7</th>\n",
       "      <th>8</th>\n",
       "      <th>9</th>\n",
       "      <th>...</th>\n",
       "      <th>55477</th>\n",
       "      <th>55478</th>\n",
       "      <th>55479</th>\n",
       "      <th>55480</th>\n",
       "      <th>55481</th>\n",
       "      <th>55482</th>\n",
       "      <th>55483</th>\n",
       "      <th>55484</th>\n",
       "      <th>55485</th>\n",
       "      <th>55486</th>\n",
       "    </tr>\n",
       "  </thead>\n",
       "  <tbody>\n",
       "    <tr>\n",
       "      <th>AAACAGCCACGGTACT.1</th>\n",
       "      <td>0</td>\n",
       "      <td>0</td>\n",
       "      <td>0</td>\n",
       "      <td>0</td>\n",
       "      <td>0</td>\n",
       "      <td>0</td>\n",
       "      <td>0</td>\n",
       "      <td>0</td>\n",
       "      <td>0</td>\n",
       "      <td>0</td>\n",
       "      <td>...</td>\n",
       "      <td>0</td>\n",
       "      <td>2</td>\n",
       "      <td>0</td>\n",
       "      <td>0</td>\n",
       "      <td>0</td>\n",
       "      <td>0</td>\n",
       "      <td>0</td>\n",
       "      <td>0</td>\n",
       "      <td>0</td>\n",
       "      <td>0</td>\n",
       "    </tr>\n",
       "    <tr>\n",
       "      <th>AAACAGCCATCAATCG.1</th>\n",
       "      <td>0</td>\n",
       "      <td>0</td>\n",
       "      <td>0</td>\n",
       "      <td>0</td>\n",
       "      <td>0</td>\n",
       "      <td>0</td>\n",
       "      <td>0</td>\n",
       "      <td>0</td>\n",
       "      <td>0</td>\n",
       "      <td>0</td>\n",
       "      <td>...</td>\n",
       "      <td>3</td>\n",
       "      <td>0</td>\n",
       "      <td>0</td>\n",
       "      <td>0</td>\n",
       "      <td>0</td>\n",
       "      <td>0</td>\n",
       "      <td>0</td>\n",
       "      <td>0</td>\n",
       "      <td>0</td>\n",
       "      <td>0</td>\n",
       "    </tr>\n",
       "    <tr>\n",
       "      <th>AAACAGCCATCACTTC.1</th>\n",
       "      <td>0</td>\n",
       "      <td>0</td>\n",
       "      <td>11</td>\n",
       "      <td>0</td>\n",
       "      <td>0</td>\n",
       "      <td>0</td>\n",
       "      <td>0</td>\n",
       "      <td>1</td>\n",
       "      <td>0</td>\n",
       "      <td>0</td>\n",
       "      <td>...</td>\n",
       "      <td>3</td>\n",
       "      <td>0</td>\n",
       "      <td>0</td>\n",
       "      <td>0</td>\n",
       "      <td>0</td>\n",
       "      <td>0</td>\n",
       "      <td>0</td>\n",
       "      <td>0</td>\n",
       "      <td>0</td>\n",
       "      <td>0</td>\n",
       "    </tr>\n",
       "    <tr>\n",
       "      <th>AAACAGCCATCCCTCA.1</th>\n",
       "      <td>0</td>\n",
       "      <td>0</td>\n",
       "      <td>1</td>\n",
       "      <td>0</td>\n",
       "      <td>0</td>\n",
       "      <td>0</td>\n",
       "      <td>0</td>\n",
       "      <td>0</td>\n",
       "      <td>0</td>\n",
       "      <td>0</td>\n",
       "      <td>...</td>\n",
       "      <td>1</td>\n",
       "      <td>0</td>\n",
       "      <td>0</td>\n",
       "      <td>0</td>\n",
       "      <td>0</td>\n",
       "      <td>0</td>\n",
       "      <td>0</td>\n",
       "      <td>0</td>\n",
       "      <td>0</td>\n",
       "      <td>0</td>\n",
       "    </tr>\n",
       "    <tr>\n",
       "      <th>AAACAGCCATGCTCCC.1</th>\n",
       "      <td>0</td>\n",
       "      <td>0</td>\n",
       "      <td>5</td>\n",
       "      <td>0</td>\n",
       "      <td>0</td>\n",
       "      <td>0</td>\n",
       "      <td>0</td>\n",
       "      <td>0</td>\n",
       "      <td>0</td>\n",
       "      <td>0</td>\n",
       "      <td>...</td>\n",
       "      <td>2</td>\n",
       "      <td>2</td>\n",
       "      <td>0</td>\n",
       "      <td>0</td>\n",
       "      <td>0</td>\n",
       "      <td>0</td>\n",
       "      <td>0</td>\n",
       "      <td>0</td>\n",
       "      <td>0</td>\n",
       "      <td>0</td>\n",
       "    </tr>\n",
       "    <tr>\n",
       "      <th>...</th>\n",
       "      <td>...</td>\n",
       "      <td>...</td>\n",
       "      <td>...</td>\n",
       "      <td>...</td>\n",
       "      <td>...</td>\n",
       "      <td>...</td>\n",
       "      <td>...</td>\n",
       "      <td>...</td>\n",
       "      <td>...</td>\n",
       "      <td>...</td>\n",
       "      <td>...</td>\n",
       "      <td>...</td>\n",
       "      <td>...</td>\n",
       "      <td>...</td>\n",
       "      <td>...</td>\n",
       "      <td>...</td>\n",
       "      <td>...</td>\n",
       "      <td>...</td>\n",
       "      <td>...</td>\n",
       "      <td>...</td>\n",
       "      <td>...</td>\n",
       "    </tr>\n",
       "    <tr>\n",
       "      <th>TTTGTGTTCGGTCAGC.1</th>\n",
       "      <td>0</td>\n",
       "      <td>0</td>\n",
       "      <td>16</td>\n",
       "      <td>0</td>\n",
       "      <td>3</td>\n",
       "      <td>0</td>\n",
       "      <td>0</td>\n",
       "      <td>1</td>\n",
       "      <td>0</td>\n",
       "      <td>0</td>\n",
       "      <td>...</td>\n",
       "      <td>5</td>\n",
       "      <td>0</td>\n",
       "      <td>0</td>\n",
       "      <td>0</td>\n",
       "      <td>0</td>\n",
       "      <td>0</td>\n",
       "      <td>0</td>\n",
       "      <td>0</td>\n",
       "      <td>0</td>\n",
       "      <td>0</td>\n",
       "    </tr>\n",
       "    <tr>\n",
       "      <th>TTTGTTGGTAGCTGCG.1</th>\n",
       "      <td>0</td>\n",
       "      <td>0</td>\n",
       "      <td>0</td>\n",
       "      <td>0</td>\n",
       "      <td>0</td>\n",
       "      <td>0</td>\n",
       "      <td>0</td>\n",
       "      <td>0</td>\n",
       "      <td>0</td>\n",
       "      <td>0</td>\n",
       "      <td>...</td>\n",
       "      <td>0</td>\n",
       "      <td>0</td>\n",
       "      <td>0</td>\n",
       "      <td>0</td>\n",
       "      <td>0</td>\n",
       "      <td>0</td>\n",
       "      <td>0</td>\n",
       "      <td>0</td>\n",
       "      <td>0</td>\n",
       "      <td>0</td>\n",
       "    </tr>\n",
       "    <tr>\n",
       "      <th>TTTGTTGGTTACGCAA.1</th>\n",
       "      <td>0</td>\n",
       "      <td>0</td>\n",
       "      <td>18</td>\n",
       "      <td>0</td>\n",
       "      <td>1</td>\n",
       "      <td>0</td>\n",
       "      <td>0</td>\n",
       "      <td>0</td>\n",
       "      <td>0</td>\n",
       "      <td>0</td>\n",
       "      <td>...</td>\n",
       "      <td>6</td>\n",
       "      <td>0</td>\n",
       "      <td>0</td>\n",
       "      <td>0</td>\n",
       "      <td>0</td>\n",
       "      <td>0</td>\n",
       "      <td>0</td>\n",
       "      <td>0</td>\n",
       "      <td>0</td>\n",
       "      <td>0</td>\n",
       "    </tr>\n",
       "    <tr>\n",
       "      <th>TTTGTTGGTTGGCCGA.1</th>\n",
       "      <td>0</td>\n",
       "      <td>0</td>\n",
       "      <td>7</td>\n",
       "      <td>0</td>\n",
       "      <td>0</td>\n",
       "      <td>0</td>\n",
       "      <td>0</td>\n",
       "      <td>0</td>\n",
       "      <td>0</td>\n",
       "      <td>0</td>\n",
       "      <td>...</td>\n",
       "      <td>11</td>\n",
       "      <td>0</td>\n",
       "      <td>0</td>\n",
       "      <td>0</td>\n",
       "      <td>0</td>\n",
       "      <td>0</td>\n",
       "      <td>0</td>\n",
       "      <td>0</td>\n",
       "      <td>0</td>\n",
       "      <td>0</td>\n",
       "    </tr>\n",
       "    <tr>\n",
       "      <th>TTTGTTGGTTTGAGGC.1</th>\n",
       "      <td>0</td>\n",
       "      <td>0</td>\n",
       "      <td>14</td>\n",
       "      <td>0</td>\n",
       "      <td>1</td>\n",
       "      <td>0</td>\n",
       "      <td>0</td>\n",
       "      <td>0</td>\n",
       "      <td>0</td>\n",
       "      <td>0</td>\n",
       "      <td>...</td>\n",
       "      <td>4</td>\n",
       "      <td>1</td>\n",
       "      <td>0</td>\n",
       "      <td>0</td>\n",
       "      <td>0</td>\n",
       "      <td>0</td>\n",
       "      <td>0</td>\n",
       "      <td>0</td>\n",
       "      <td>0</td>\n",
       "      <td>0</td>\n",
       "    </tr>\n",
       "  </tbody>\n",
       "</table>\n",
       "<p>9668 rows × 55487 columns</p>\n",
       "</div>"
      ],
      "text/plain": [
       "                    0      1      2      3      4      5      6      7      \\\n",
       "AAACAGCCACGGTACT.1      0      0      0      0      0      0      0      0   \n",
       "AAACAGCCATCAATCG.1      0      0      0      0      0      0      0      0   \n",
       "AAACAGCCATCACTTC.1      0      0     11      0      0      0      0      1   \n",
       "AAACAGCCATCCCTCA.1      0      0      1      0      0      0      0      0   \n",
       "AAACAGCCATGCTCCC.1      0      0      5      0      0      0      0      0   \n",
       "...                   ...    ...    ...    ...    ...    ...    ...    ...   \n",
       "TTTGTGTTCGGTCAGC.1      0      0     16      0      3      0      0      1   \n",
       "TTTGTTGGTAGCTGCG.1      0      0      0      0      0      0      0      0   \n",
       "TTTGTTGGTTACGCAA.1      0      0     18      0      1      0      0      0   \n",
       "TTTGTTGGTTGGCCGA.1      0      0      7      0      0      0      0      0   \n",
       "TTTGTTGGTTTGAGGC.1      0      0     14      0      1      0      0      0   \n",
       "\n",
       "                    8      9      ...  55477  55478  55479  55480  55481  \\\n",
       "AAACAGCCACGGTACT.1      0      0  ...      0      2      0      0      0   \n",
       "AAACAGCCATCAATCG.1      0      0  ...      3      0      0      0      0   \n",
       "AAACAGCCATCACTTC.1      0      0  ...      3      0      0      0      0   \n",
       "AAACAGCCATCCCTCA.1      0      0  ...      1      0      0      0      0   \n",
       "AAACAGCCATGCTCCC.1      0      0  ...      2      2      0      0      0   \n",
       "...                   ...    ...  ...    ...    ...    ...    ...    ...   \n",
       "TTTGTGTTCGGTCAGC.1      0      0  ...      5      0      0      0      0   \n",
       "TTTGTTGGTAGCTGCG.1      0      0  ...      0      0      0      0      0   \n",
       "TTTGTTGGTTACGCAA.1      0      0  ...      6      0      0      0      0   \n",
       "TTTGTTGGTTGGCCGA.1      0      0  ...     11      0      0      0      0   \n",
       "TTTGTTGGTTTGAGGC.1      0      0  ...      4      1      0      0      0   \n",
       "\n",
       "                    55482  55483  55484  55485  55486  \n",
       "AAACAGCCACGGTACT.1      0      0      0      0      0  \n",
       "AAACAGCCATCAATCG.1      0      0      0      0      0  \n",
       "AAACAGCCATCACTTC.1      0      0      0      0      0  \n",
       "AAACAGCCATCCCTCA.1      0      0      0      0      0  \n",
       "AAACAGCCATGCTCCC.1      0      0      0      0      0  \n",
       "...                   ...    ...    ...    ...    ...  \n",
       "TTTGTGTTCGGTCAGC.1      0      0      0      0      0  \n",
       "TTTGTTGGTAGCTGCG.1      0      0      0      0      0  \n",
       "TTTGTTGGTTACGCAA.1      0      0      0      0      0  \n",
       "TTTGTTGGTTGGCCGA.1      0      0      0      0      0  \n",
       "TTTGTTGGTTTGAGGC.1      0      0      0      0      0  \n",
       "\n",
       "[9668 rows x 55487 columns]"
      ]
     },
     "execution_count": 4,
     "metadata": {},
     "output_type": "execute_result"
    }
   ],
   "source": [
    "RNA_data = pd.read_csv('/data/User/sunym/temp/E145_2.csv')\n",
    "RNA_data = RNA_data.drop(columns=['Unnamed: 0'])\n",
    "RNA_data = RNA_data.T\n",
    "RNA_data"
   ]
  },
  {
   "cell_type": "code",
   "execution_count": 5,
   "id": "b24fe9fb-5c27-4502-8ce4-510acdfb6915",
   "metadata": {},
   "outputs": [
    {
     "data": {
      "text/plain": [
       "Index(['AAACAGCCACGGTACT.1', 'AAACAGCCATCAATCG.1', 'AAACAGCCATCACTTC.1',\n",
       "       'AAACAGCCATCCCTCA.1', 'AAACAGCCATGCTCCC.1', 'AAACAGCCATTCAGCA.1',\n",
       "       'AAACATGCACAATACT.1', 'AAACATGCACAGGATG.1', 'AAACATGCAGTTAGCC.1',\n",
       "       'AAACCAACAATCATGT.1',\n",
       "       ...\n",
       "       'TTTGTGGCATAGCGGA.1', 'TTTGTGTTCAAGACTC.1', 'TTTGTGTTCAATCTCT.1',\n",
       "       'TTTGTGTTCCGGGACT.1', 'TTTGTGTTCGACCTGA.1', 'TTTGTGTTCGGTCAGC.1',\n",
       "       'TTTGTTGGTAGCTGCG.1', 'TTTGTTGGTTACGCAA.1', 'TTTGTTGGTTGGCCGA.1',\n",
       "       'TTTGTTGGTTTGAGGC.1'],\n",
       "      dtype='object', length=9668)"
      ]
     },
     "execution_count": 5,
     "metadata": {},
     "output_type": "execute_result"
    }
   ],
   "source": [
    "RNA_cell_list = RNA_data.index\n",
    "RNA_cell_list"
   ]
  },
  {
   "cell_type": "code",
   "execution_count": 6,
   "id": "303facca-0052-4ad9-bd33-5790898a4992",
   "metadata": {},
   "outputs": [],
   "source": [
    "RNA_data = RNA_data.values"
   ]
  },
  {
   "cell_type": "markdown",
   "id": "071d1676-3560-43aa-b84d-d80e3fe9bdf3",
   "metadata": {},
   "source": [
    "### Scrublet"
   ]
  },
  {
   "cell_type": "code",
   "execution_count": 7,
   "id": "d79f72ac-5418-4c09-8744-4543e0671bd7",
   "metadata": {},
   "outputs": [
    {
     "name": "stdout",
     "output_type": "stream",
     "text": [
      "Preprocessing...\n",
      "Simulating doublets...\n",
      "Embedding transcriptomes using PCA...\n",
      "Calculating doublet scores...\n",
      "Automatically set threshold at doublet score = 0.21\n",
      "Detected doublet rate = 13.2%\n",
      "Estimated detectable doublet fraction = 63.5%\n",
      "Overall doublet rate:\n",
      "\tExpected   = 10.0%\n",
      "\tEstimated  = 20.7%\n",
      "Elapsed time: 14.8 seconds\n"
     ]
    }
   ],
   "source": [
    "scrub = scr.Scrublet(RNA_data, expected_doublet_rate=0.1)\n",
    "doublet_scores, predicted_doublets = scrub.scrub_doublets(min_counts=2, \n",
    "                                                          min_cells=3, \n",
    "                                                          min_gene_variability_pctl=85, \n",
    "                                                          n_prin_comps=30)"
   ]
  },
  {
   "cell_type": "code",
   "execution_count": 8,
   "id": "cae6981e-c766-4332-bbc9-eae743399a42",
   "metadata": {},
   "outputs": [
    {
     "name": "stderr",
     "output_type": "stream",
     "text": [
      "findfont: Font family ['sans-serif'] not found. Falling back to DejaVu Sans.\n",
      "findfont: Generic family 'sans-serif' not found because none of the following families were found: Arial\n",
      "findfont: Font family ['sans-serif'] not found. Falling back to DejaVu Sans.\n",
      "findfont: Generic family 'sans-serif' not found because none of the following families were found: Arial\n"
     ]
    },
    {
     "data": {
      "text/plain": [
       "(<Figure size 576x216 with 2 Axes>,\n",
       " array([<AxesSubplot:title={'center':'Observed transcriptomes'}, xlabel='Doublet score', ylabel='Prob. density'>,\n",
       "        <AxesSubplot:title={'center':'Simulated doublets'}, xlabel='Doublet score', ylabel='Prob. density'>],\n",
       "       dtype=object))"
      ]
     },
     "execution_count": 8,
     "metadata": {},
     "output_type": "execute_result"
    },
    {
     "data": {
      "image/png": "[encoded data removed]",
      "text/plain": [
       "<Figure size 576x216 with 2 Axes>"
      ]
     },
     "metadata": {
      "needs_background": "light"
     },
     "output_type": "display_data"
    }
   ],
   "source": [
    "scrub.plot_histogram()"
   ]
  },
  {
   "cell_type": "code",
   "execution_count": 9,
   "id": "e691d290-cb96-42bc-9e9b-df4e2545163b",
   "metadata": {},
   "outputs": [
    {
     "name": "stdout",
     "output_type": "stream",
     "text": [
      "Detected doublet rate = 10.8%\n",
      "Estimated detectable doublet fraction = 55.1%\n",
      "Overall doublet rate:\n",
      "\tExpected   = 10.0%\n",
      "\tEstimated  = 19.6%\n"
     ]
    },
    {
     "data": {
      "text/plain": [
       "array([False, False, False, ..., False, False,  True])"
      ]
     },
     "execution_count": 9,
     "metadata": {},
     "output_type": "execute_result"
    }
   ],
   "source": [
    "scrub.call_doublets(threshold=0.26)"
   ]
  },
  {
   "cell_type": "code",
   "execution_count": 10,
   "id": "fedb7ab9-4cf4-4362-b388-d2a18783bc4c",
   "metadata": {},
   "outputs": [
    {
     "data": {
      "text/plain": [
       "(<Figure size 576x216 with 2 Axes>,\n",
       " array([<AxesSubplot:title={'center':'Observed transcriptomes'}, xlabel='Doublet score', ylabel='Prob. density'>,\n",
       "        <AxesSubplot:title={'center':'Simulated doublets'}, xlabel='Doublet score', ylabel='Prob. density'>],\n",
       "       dtype=object))"
      ]
     },
     "execution_count": 10,
     "metadata": {},
     "output_type": "execute_result"
    },
    {
     "data": {
      "image/png": "[encoded data removed]",
      "text/plain": [
       "<Figure size 576x216 with 2 Axes>"
      ]
     },
     "metadata": {
      "needs_background": "light"
     },
     "output_type": "display_data"
    }
   ],
   "source": [
    "scrub.plot_histogram()"
   ]
  },
  {
   "cell_type": "code",
   "execution_count": 11,
   "id": "92e46ed3-f13c-4818-8d9c-8b0e3891b137",
   "metadata": {},
   "outputs": [
    {
     "name": "stdout",
     "output_type": "stream",
     "text": [
      "Running UMAP...\n"
     ]
    },
    {
     "name": "stderr",
     "output_type": "stream",
     "text": [
      "/data/User/sunym/env/Python_3.9.7/lib/python3.9/site-packages/tqdm/auto.py:22: TqdmWarning: IProgress not found. Please update jupyter and ipywidgets. See https://ipywidgets.readthedocs.io/en/stable/user_install.html\n",
      "  from .autonotebook import tqdm as notebook_tqdm\n"
     ]
    },
    {
     "name": "stdout",
     "output_type": "stream",
     "text": [
      "Done.\n"
     ]
    },
    {
     "data": {
      "image/png": "[encoded data removed]",
      "text/plain": [
       "<Figure size 576x288 with 3 Axes>"
      ]
     },
     "metadata": {
      "needs_background": "light"
     },
     "output_type": "display_data"
    }
   ],
   "source": [
    "print('Running UMAP...')\n",
    "scrub.set_embedding('UMAP', scr.get_umap(scrub.manifold_obs_, 10, min_dist=0.3))\n",
    "\n",
    "# # Uncomment to run tSNE - slow\n",
    "# print('Running tSNE...')\n",
    "# scrub.set_embedding('tSNE', scr.get_tsne(scrub.manifold_obs_, angle=0.9))\n",
    "\n",
    "# # Uncomment to run force layout - slow\n",
    "# print('Running ForceAtlas2...')\n",
    "# scrub.set_embedding('FA', scr.get_force_layout(scrub.manifold_obs_, n_neighbors=5. n_iter=1000))\n",
    "    \n",
    "print('Done.')\n",
    "\n",
    "scrub.plot_embedding('UMAP', order_points=True);\n",
    "\n",
    "# scrub.plot_embedding('tSNE', order_points=True);\n",
    "# scrub.plot_embedding('FA', order_points=True);"
   ]
  },
  {
   "cell_type": "code",
   "execution_count": 12,
   "id": "934111ca-5b6a-4362-bcab-57e220209785",
   "metadata": {},
   "outputs": [],
   "source": [
    "a = np.array([RNA_cell_list,doublet_scores,predicted_doublets])\n",
    "a = pd.DataFrame({'barcodes':a[0,:],'score':a[1,:],'prediction':a[2,:]})\n",
    "a.to_csv('/data/User/sunym/project/Brain/res/step_55_fig_220907/E145_2_scrublet.csv', index=False,header=True)"
   ]
  },
  {
   "cell_type": "markdown",
   "id": "fab5fa2d-c660-472a-8109-d3dded523140",
   "metadata": {},
   "source": [
    "## E155_3"
   ]
  },
  {
   "cell_type": "markdown",
   "id": "c8b064bd-435d-4cd2-a853-bbb513f502ad",
   "metadata": {},
   "source": [
    "### read data"
   ]
  },
  {
   "cell_type": "code",
   "execution_count": 13,
   "id": "6f25cd6c-167b-4e83-8b6c-d5046627b76a",
   "metadata": {},
   "outputs": [
    {
     "data": {
      "text/html": [
       "<div>\n",
       "<style scoped>\n",
       "    .dataframe tbody tr th:only-of-type {\n",
       "        vertical-align: middle;\n",
       "    }\n",
       "\n",
       "    .dataframe tbody tr th {\n",
       "        vertical-align: top;\n",
       "    }\n",
       "\n",
       "    .dataframe thead th {\n",
       "        text-align: right;\n",
       "    }\n",
       "</style>\n",
       "<table border=\"1\" class=\"dataframe\">\n",
       "  <thead>\n",
       "    <tr style=\"text-align: right;\">\n",
       "      <th></th>\n",
       "      <th>0</th>\n",
       "      <th>1</th>\n",
       "      <th>2</th>\n",
       "      <th>3</th>\n",
       "      <th>4</th>\n",
       "      <th>5</th>\n",
       "      <th>6</th>\n",
       "      <th>7</th>\n",
       "      <th>8</th>\n",
       "      <th>9</th>\n",
       "      <th>...</th>\n",
       "      <th>55477</th>\n",
       "      <th>55478</th>\n",
       "      <th>55479</th>\n",
       "      <th>55480</th>\n",
       "      <th>55481</th>\n",
       "      <th>55482</th>\n",
       "      <th>55483</th>\n",
       "      <th>55484</th>\n",
       "      <th>55485</th>\n",
       "      <th>55486</th>\n",
       "    </tr>\n",
       "  </thead>\n",
       "  <tbody>\n",
       "    <tr>\n",
       "      <th>AAACAGCCAAATGCCC.1</th>\n",
       "      <td>0</td>\n",
       "      <td>0</td>\n",
       "      <td>0</td>\n",
       "      <td>0</td>\n",
       "      <td>0</td>\n",
       "      <td>0</td>\n",
       "      <td>0</td>\n",
       "      <td>0</td>\n",
       "      <td>0</td>\n",
       "      <td>0</td>\n",
       "      <td>...</td>\n",
       "      <td>1</td>\n",
       "      <td>0</td>\n",
       "      <td>0</td>\n",
       "      <td>0</td>\n",
       "      <td>0</td>\n",
       "      <td>0</td>\n",
       "      <td>0</td>\n",
       "      <td>0</td>\n",
       "      <td>0</td>\n",
       "      <td>0</td>\n",
       "    </tr>\n",
       "    <tr>\n",
       "      <th>AAACAGCCAATCCTAG.1</th>\n",
       "      <td>0</td>\n",
       "      <td>0</td>\n",
       "      <td>0</td>\n",
       "      <td>0</td>\n",
       "      <td>0</td>\n",
       "      <td>0</td>\n",
       "      <td>0</td>\n",
       "      <td>0</td>\n",
       "      <td>0</td>\n",
       "      <td>0</td>\n",
       "      <td>...</td>\n",
       "      <td>2</td>\n",
       "      <td>0</td>\n",
       "      <td>0</td>\n",
       "      <td>0</td>\n",
       "      <td>0</td>\n",
       "      <td>0</td>\n",
       "      <td>0</td>\n",
       "      <td>0</td>\n",
       "      <td>0</td>\n",
       "      <td>0</td>\n",
       "    </tr>\n",
       "    <tr>\n",
       "      <th>AAACAGCCAATTAGGA.1</th>\n",
       "      <td>0</td>\n",
       "      <td>0</td>\n",
       "      <td>1</td>\n",
       "      <td>0</td>\n",
       "      <td>0</td>\n",
       "      <td>0</td>\n",
       "      <td>0</td>\n",
       "      <td>0</td>\n",
       "      <td>0</td>\n",
       "      <td>0</td>\n",
       "      <td>...</td>\n",
       "      <td>3</td>\n",
       "      <td>0</td>\n",
       "      <td>0</td>\n",
       "      <td>0</td>\n",
       "      <td>0</td>\n",
       "      <td>0</td>\n",
       "      <td>0</td>\n",
       "      <td>0</td>\n",
       "      <td>0</td>\n",
       "      <td>0</td>\n",
       "    </tr>\n",
       "    <tr>\n",
       "      <th>AAACAGCCACGCAACT.1</th>\n",
       "      <td>0</td>\n",
       "      <td>0</td>\n",
       "      <td>0</td>\n",
       "      <td>0</td>\n",
       "      <td>0</td>\n",
       "      <td>0</td>\n",
       "      <td>0</td>\n",
       "      <td>0</td>\n",
       "      <td>0</td>\n",
       "      <td>0</td>\n",
       "      <td>...</td>\n",
       "      <td>1</td>\n",
       "      <td>0</td>\n",
       "      <td>0</td>\n",
       "      <td>0</td>\n",
       "      <td>0</td>\n",
       "      <td>0</td>\n",
       "      <td>0</td>\n",
       "      <td>0</td>\n",
       "      <td>0</td>\n",
       "      <td>0</td>\n",
       "    </tr>\n",
       "    <tr>\n",
       "      <th>AAACAGCCAGCATTAT.1</th>\n",
       "      <td>0</td>\n",
       "      <td>0</td>\n",
       "      <td>1</td>\n",
       "      <td>0</td>\n",
       "      <td>0</td>\n",
       "      <td>0</td>\n",
       "      <td>0</td>\n",
       "      <td>0</td>\n",
       "      <td>0</td>\n",
       "      <td>0</td>\n",
       "      <td>...</td>\n",
       "      <td>1</td>\n",
       "      <td>0</td>\n",
       "      <td>0</td>\n",
       "      <td>0</td>\n",
       "      <td>0</td>\n",
       "      <td>0</td>\n",
       "      <td>0</td>\n",
       "      <td>0</td>\n",
       "      <td>0</td>\n",
       "      <td>0</td>\n",
       "    </tr>\n",
       "    <tr>\n",
       "      <th>...</th>\n",
       "      <td>...</td>\n",
       "      <td>...</td>\n",
       "      <td>...</td>\n",
       "      <td>...</td>\n",
       "      <td>...</td>\n",
       "      <td>...</td>\n",
       "      <td>...</td>\n",
       "      <td>...</td>\n",
       "      <td>...</td>\n",
       "      <td>...</td>\n",
       "      <td>...</td>\n",
       "      <td>...</td>\n",
       "      <td>...</td>\n",
       "      <td>...</td>\n",
       "      <td>...</td>\n",
       "      <td>...</td>\n",
       "      <td>...</td>\n",
       "      <td>...</td>\n",
       "      <td>...</td>\n",
       "      <td>...</td>\n",
       "      <td>...</td>\n",
       "    </tr>\n",
       "    <tr>\n",
       "      <th>TTTGTGTTCTTAGCGG.1</th>\n",
       "      <td>0</td>\n",
       "      <td>0</td>\n",
       "      <td>13</td>\n",
       "      <td>0</td>\n",
       "      <td>0</td>\n",
       "      <td>0</td>\n",
       "      <td>0</td>\n",
       "      <td>0</td>\n",
       "      <td>0</td>\n",
       "      <td>0</td>\n",
       "      <td>...</td>\n",
       "      <td>3</td>\n",
       "      <td>0</td>\n",
       "      <td>0</td>\n",
       "      <td>0</td>\n",
       "      <td>0</td>\n",
       "      <td>0</td>\n",
       "      <td>0</td>\n",
       "      <td>0</td>\n",
       "      <td>0</td>\n",
       "      <td>0</td>\n",
       "    </tr>\n",
       "    <tr>\n",
       "      <th>TTTGTGTTCTTTGACT.1</th>\n",
       "      <td>0</td>\n",
       "      <td>0</td>\n",
       "      <td>0</td>\n",
       "      <td>0</td>\n",
       "      <td>0</td>\n",
       "      <td>0</td>\n",
       "      <td>0</td>\n",
       "      <td>0</td>\n",
       "      <td>0</td>\n",
       "      <td>0</td>\n",
       "      <td>...</td>\n",
       "      <td>0</td>\n",
       "      <td>1</td>\n",
       "      <td>0</td>\n",
       "      <td>0</td>\n",
       "      <td>0</td>\n",
       "      <td>0</td>\n",
       "      <td>0</td>\n",
       "      <td>0</td>\n",
       "      <td>0</td>\n",
       "      <td>0</td>\n",
       "    </tr>\n",
       "    <tr>\n",
       "      <th>TTTGTTGGTGCTTAGA.1</th>\n",
       "      <td>0</td>\n",
       "      <td>0</td>\n",
       "      <td>2</td>\n",
       "      <td>0</td>\n",
       "      <td>0</td>\n",
       "      <td>0</td>\n",
       "      <td>0</td>\n",
       "      <td>0</td>\n",
       "      <td>0</td>\n",
       "      <td>0</td>\n",
       "      <td>...</td>\n",
       "      <td>1</td>\n",
       "      <td>0</td>\n",
       "      <td>0</td>\n",
       "      <td>0</td>\n",
       "      <td>0</td>\n",
       "      <td>0</td>\n",
       "      <td>0</td>\n",
       "      <td>0</td>\n",
       "      <td>0</td>\n",
       "      <td>0</td>\n",
       "    </tr>\n",
       "    <tr>\n",
       "      <th>TTTGTTGGTGGTGAGA.1</th>\n",
       "      <td>0</td>\n",
       "      <td>0</td>\n",
       "      <td>0</td>\n",
       "      <td>0</td>\n",
       "      <td>0</td>\n",
       "      <td>0</td>\n",
       "      <td>0</td>\n",
       "      <td>0</td>\n",
       "      <td>0</td>\n",
       "      <td>0</td>\n",
       "      <td>...</td>\n",
       "      <td>1</td>\n",
       "      <td>0</td>\n",
       "      <td>0</td>\n",
       "      <td>0</td>\n",
       "      <td>0</td>\n",
       "      <td>0</td>\n",
       "      <td>0</td>\n",
       "      <td>0</td>\n",
       "      <td>0</td>\n",
       "      <td>0</td>\n",
       "    </tr>\n",
       "    <tr>\n",
       "      <th>TTTGTTGGTTTAGTCC.1</th>\n",
       "      <td>0</td>\n",
       "      <td>0</td>\n",
       "      <td>1</td>\n",
       "      <td>0</td>\n",
       "      <td>1</td>\n",
       "      <td>0</td>\n",
       "      <td>0</td>\n",
       "      <td>0</td>\n",
       "      <td>0</td>\n",
       "      <td>0</td>\n",
       "      <td>...</td>\n",
       "      <td>5</td>\n",
       "      <td>1</td>\n",
       "      <td>0</td>\n",
       "      <td>0</td>\n",
       "      <td>0</td>\n",
       "      <td>0</td>\n",
       "      <td>0</td>\n",
       "      <td>0</td>\n",
       "      <td>0</td>\n",
       "      <td>0</td>\n",
       "    </tr>\n",
       "  </tbody>\n",
       "</table>\n",
       "<p>13096 rows × 55487 columns</p>\n",
       "</div>"
      ],
      "text/plain": [
       "                    0      1      2      3      4      5      6      7      \\\n",
       "AAACAGCCAAATGCCC.1      0      0      0      0      0      0      0      0   \n",
       "AAACAGCCAATCCTAG.1      0      0      0      0      0      0      0      0   \n",
       "AAACAGCCAATTAGGA.1      0      0      1      0      0      0      0      0   \n",
       "AAACAGCCACGCAACT.1      0      0      0      0      0      0      0      0   \n",
       "AAACAGCCAGCATTAT.1      0      0      1      0      0      0      0      0   \n",
       "...                   ...    ...    ...    ...    ...    ...    ...    ...   \n",
       "TTTGTGTTCTTAGCGG.1      0      0     13      0      0      0      0      0   \n",
       "TTTGTGTTCTTTGACT.1      0      0      0      0      0      0      0      0   \n",
       "TTTGTTGGTGCTTAGA.1      0      0      2      0      0      0      0      0   \n",
       "TTTGTTGGTGGTGAGA.1      0      0      0      0      0      0      0      0   \n",
       "TTTGTTGGTTTAGTCC.1      0      0      1      0      1      0      0      0   \n",
       "\n",
       "                    8      9      ...  55477  55478  55479  55480  55481  \\\n",
       "AAACAGCCAAATGCCC.1      0      0  ...      1      0      0      0      0   \n",
       "AAACAGCCAATCCTAG.1      0      0  ...      2      0      0      0      0   \n",
       "AAACAGCCAATTAGGA.1      0      0  ...      3      0      0      0      0   \n",
       "AAACAGCCACGCAACT.1      0      0  ...      1      0      0      0      0   \n",
       "AAACAGCCAGCATTAT.1      0      0  ...      1      0      0      0      0   \n",
       "...                   ...    ...  ...    ...    ...    ...    ...    ...   \n",
       "TTTGTGTTCTTAGCGG.1      0      0  ...      3      0      0      0      0   \n",
       "TTTGTGTTCTTTGACT.1      0      0  ...      0      1      0      0      0   \n",
       "TTTGTTGGTGCTTAGA.1      0      0  ...      1      0      0      0      0   \n",
       "TTTGTTGGTGGTGAGA.1      0      0  ...      1      0      0      0      0   \n",
       "TTTGTTGGTTTAGTCC.1      0      0  ...      5      1      0      0      0   \n",
       "\n",
       "                    55482  55483  55484  55485  55486  \n",
       "AAACAGCCAAATGCCC.1      0      0      0      0      0  \n",
       "AAACAGCCAATCCTAG.1      0      0      0      0      0  \n",
       "AAACAGCCAATTAGGA.1      0      0      0      0      0  \n",
       "AAACAGCCACGCAACT.1      0      0      0      0      0  \n",
       "AAACAGCCAGCATTAT.1      0      0      0      0      0  \n",
       "...                   ...    ...    ...    ...    ...  \n",
       "TTTGTGTTCTTAGCGG.1      0      0      0      0      0  \n",
       "TTTGTGTTCTTTGACT.1      0      0      0      0      0  \n",
       "TTTGTTGGTGCTTAGA.1      0      0      0      0      0  \n",
       "TTTGTTGGTGGTGAGA.1      0      0      0      0      0  \n",
       "TTTGTTGGTTTAGTCC.1      0      0      0      0      0  \n",
       "\n",
       "[13096 rows x 55487 columns]"
      ]
     },
     "execution_count": 13,
     "metadata": {},
     "output_type": "execute_result"
    }
   ],
   "source": [
    "RNA_data = pd.read_csv('/data/User/sunym/temp/E155_3.csv')\n",
    "RNA_data = RNA_data.drop(columns=['Unnamed: 0'])\n",
    "RNA_data = RNA_data.T\n",
    "RNA_data"
   ]
  },
  {
   "cell_type": "code",
   "execution_count": 14,
   "id": "9da3bead-0486-4dc1-bad0-afc68720cc86",
   "metadata": {},
   "outputs": [
    {
     "data": {
      "text/plain": [
       "Index(['AAACAGCCAAATGCCC.1', 'AAACAGCCAATCCTAG.1', 'AAACAGCCAATTAGGA.1',\n",
       "       'AAACAGCCACGCAACT.1', 'AAACAGCCAGCATTAT.1', 'AAACAGCCATAATTGC.1',\n",
       "       'AAACATGCAACAGGAT.1', 'AAACATGCAGCTTAGC.1', 'AAACATGCAGTAGCCT.1',\n",
       "       'AAACATGCAGTTGCGT.1',\n",
       "       ...\n",
       "       'TTTGTGTTCGCAAACT.1', 'TTTGTGTTCGCTTGCT.1', 'TTTGTGTTCGGTTTGG.1',\n",
       "       'TTTGTGTTCGTGCTAG.1', 'TTTGTGTTCTTACTCG.1', 'TTTGTGTTCTTAGCGG.1',\n",
       "       'TTTGTGTTCTTTGACT.1', 'TTTGTTGGTGCTTAGA.1', 'TTTGTTGGTGGTGAGA.1',\n",
       "       'TTTGTTGGTTTAGTCC.1'],\n",
       "      dtype='object', length=13096)"
      ]
     },
     "execution_count": 14,
     "metadata": {},
     "output_type": "execute_result"
    }
   ],
   "source": [
    "RNA_cell_list = RNA_data.index\n",
    "RNA_cell_list"
   ]
  },
  {
   "cell_type": "code",
   "execution_count": 15,
   "id": "58593622-4e20-49d7-a194-77884f864ca4",
   "metadata": {},
   "outputs": [],
   "source": [
    "RNA_data = RNA_data.values"
   ]
  },
  {
   "cell_type": "markdown",
   "id": "75bde67f-0436-46ae-a4df-cd59d04a6523",
   "metadata": {},
   "source": [
    "### Scrublet"
   ]
  },
  {
   "cell_type": "code",
   "execution_count": 16,
   "id": "4b28882c-77ab-45e9-9b31-d0f50bab0e51",
   "metadata": {},
   "outputs": [
    {
     "name": "stdout",
     "output_type": "stream",
     "text": [
      "Preprocessing...\n",
      "Simulating doublets...\n",
      "Embedding transcriptomes using PCA...\n",
      "Calculating doublet scores...\n",
      "Automatically set threshold at doublet score = 0.12\n",
      "Detected doublet rate = 27.8%\n",
      "Estimated detectable doublet fraction = 84.2%\n",
      "Overall doublet rate:\n",
      "\tExpected   = 10.0%\n",
      "\tEstimated  = 33.0%\n",
      "Elapsed time: 22.9 seconds\n"
     ]
    }
   ],
   "source": [
    "scrub = scr.Scrublet(RNA_data, expected_doublet_rate=0.1)\n",
    "doublet_scores, predicted_doublets = scrub.scrub_doublets(min_counts=2, \n",
    "                                                          min_cells=3, \n",
    "                                                          min_gene_variability_pctl=85, \n",
    "                                                          n_prin_comps=30)"
   ]
  },
  {
   "cell_type": "code",
   "execution_count": 17,
   "id": "7d9d0314-45ab-4a0a-bc83-fa2b9aed2cd5",
   "metadata": {},
   "outputs": [
    {
     "data": {
      "text/plain": [
       "(<Figure size 576x216 with 2 Axes>,\n",
       " array([<AxesSubplot:title={'center':'Observed transcriptomes'}, xlabel='Doublet score', ylabel='Prob. density'>,\n",
       "        <AxesSubplot:title={'center':'Simulated doublets'}, xlabel='Doublet score', ylabel='Prob. density'>],\n",
       "       dtype=object))"
      ]
     },
     "execution_count": 17,
     "metadata": {},
     "output_type": "execute_result"
    },
    {
     "data": {
      "image/png": "[encoded data removed]",
      "text/plain": [
       "<Figure size 576x216 with 2 Axes>"
      ]
     },
     "metadata": {
      "needs_background": "light"
     },
     "output_type": "display_data"
    }
   ],
   "source": [
    "scrub.plot_histogram()"
   ]
  },
  {
   "cell_type": "code",
   "execution_count": 18,
   "id": "c9eddd09-ad0e-49f0-b262-3ef847a02427",
   "metadata": {},
   "outputs": [
    {
     "name": "stdout",
     "output_type": "stream",
     "text": [
      "Detected doublet rate = 18.9%\n",
      "Estimated detectable doublet fraction = 72.8%\n",
      "Overall doublet rate:\n",
      "\tExpected   = 10.0%\n",
      "\tEstimated  = 25.9%\n"
     ]
    },
    {
     "data": {
      "text/plain": [
       "array([False, False, False, ..., False, False,  True])"
      ]
     },
     "execution_count": 18,
     "metadata": {},
     "output_type": "execute_result"
    }
   ],
   "source": [
    "scrub.call_doublets(threshold=0.19)"
   ]
  },
  {
   "cell_type": "code",
   "execution_count": 19,
   "id": "48db0841-39f1-4dfb-9dab-9659977d6461",
   "metadata": {},
   "outputs": [
    {
     "data": {
      "text/plain": [
       "(<Figure size 576x216 with 2 Axes>,\n",
       " array([<AxesSubplot:title={'center':'Observed transcriptomes'}, xlabel='Doublet score', ylabel='Prob. density'>,\n",
       "        <AxesSubplot:title={'center':'Simulated doublets'}, xlabel='Doublet score', ylabel='Prob. density'>],\n",
       "       dtype=object))"
      ]
     },
     "execution_count": 19,
     "metadata": {},
     "output_type": "execute_result"
    },
    {
     "data": {
      "image/png": "[encoded data removed]",
      "text/plain": [
       "<Figure size 576x216 with 2 Axes>"
      ]
     },
     "metadata": {
      "needs_background": "light"
     },
     "output_type": "display_data"
    }
   ],
   "source": [
    "scrub.plot_histogram()"
   ]
  },
  {
   "cell_type": "code",
   "execution_count": 20,
   "id": "290f25e8-aae4-4d8d-8e7e-2565504747e1",
   "metadata": {},
   "outputs": [
    {
     "name": "stdout",
     "output_type": "stream",
     "text": [
      "Running UMAP...\n",
      "Done.\n"
     ]
    },
    {
     "data": {
      "image/png": "[encoded data removed]",
      "text/plain": [
       "<Figure size 576x288 with 3 Axes>"
      ]
     },
     "metadata": {
      "needs_background": "light"
     },
     "output_type": "display_data"
    }
   ],
   "source": [
    "print('Running UMAP...')\n",
    "scrub.set_embedding('UMAP', scr.get_umap(scrub.manifold_obs_, 10, min_dist=0.3))\n",
    "\n",
    "# # Uncomment to run tSNE - slow\n",
    "# print('Running tSNE...')\n",
    "# scrub.set_embedding('tSNE', scr.get_tsne(scrub.manifold_obs_, angle=0.9))\n",
    "\n",
    "# # Uncomment to run force layout - slow\n",
    "# print('Running ForceAtlas2...')\n",
    "# scrub.set_embedding('FA', scr.get_force_layout(scrub.manifold_obs_, n_neighbors=5. n_iter=1000))\n",
    "    \n",
    "print('Done.')\n",
    "\n",
    "scrub.plot_embedding('UMAP', order_points=True);\n",
    "\n",
    "# scrub.plot_embedding('tSNE', order_points=True);\n",
    "# scrub.plot_embedding('FA', order_points=True);"
   ]
  },
  {
   "cell_type": "code",
   "execution_count": 21,
   "id": "2f183d34-124e-41f6-9543-d1f485b31b0d",
   "metadata": {},
   "outputs": [],
   "source": [
    "a = np.array([RNA_cell_list,doublet_scores,predicted_doublets])\n",
    "a = pd.DataFrame({'barcodes':a[0,:],'score':a[1,:],'prediction':a[2,:]})\n",
    "a.to_csv('/data/User/sunym/project/Brain/res/step_55_fig_220907/E155_3_scrublet.csv', index=False,header=True)"
   ]
  },
  {
   "cell_type": "markdown",
   "id": "47517ddb-4414-4a44-a2df-2a422a19a0a7",
   "metadata": {},
   "source": [
    "## E165_2"
   ]
  },
  {
   "cell_type": "markdown",
   "id": "d36f2305-748a-4bed-b546-4b0100eb653e",
   "metadata": {},
   "source": [
    "### read data"
   ]
  },
  {
   "cell_type": "code",
   "execution_count": 22,
   "id": "a41bf532-938a-463c-9d5b-cbaaac066dc0",
   "metadata": {},
   "outputs": [
    {
     "data": {
      "text/html": [
       "<div>\n",
       "<style scoped>\n",
       "    .dataframe tbody tr th:only-of-type {\n",
       "        vertical-align: middle;\n",
       "    }\n",
       "\n",
       "    .dataframe tbody tr th {\n",
       "        vertical-align: top;\n",
       "    }\n",
       "\n",
       "    .dataframe thead th {\n",
       "        text-align: right;\n",
       "    }\n",
       "</style>\n",
       "<table border=\"1\" class=\"dataframe\">\n",
       "  <thead>\n",
       "    <tr style=\"text-align: right;\">\n",
       "      <th></th>\n",
       "      <th>0</th>\n",
       "      <th>1</th>\n",
       "      <th>2</th>\n",
       "      <th>3</th>\n",
       "      <th>4</th>\n",
       "      <th>5</th>\n",
       "      <th>6</th>\n",
       "      <th>7</th>\n",
       "      <th>8</th>\n",
       "      <th>9</th>\n",
       "      <th>...</th>\n",
       "      <th>55477</th>\n",
       "      <th>55478</th>\n",
       "      <th>55479</th>\n",
       "      <th>55480</th>\n",
       "      <th>55481</th>\n",
       "      <th>55482</th>\n",
       "      <th>55483</th>\n",
       "      <th>55484</th>\n",
       "      <th>55485</th>\n",
       "      <th>55486</th>\n",
       "    </tr>\n",
       "  </thead>\n",
       "  <tbody>\n",
       "    <tr>\n",
       "      <th>AAACAGCCAAATTCGT.1</th>\n",
       "      <td>0</td>\n",
       "      <td>0</td>\n",
       "      <td>1</td>\n",
       "      <td>0</td>\n",
       "      <td>0</td>\n",
       "      <td>0</td>\n",
       "      <td>0</td>\n",
       "      <td>0</td>\n",
       "      <td>0</td>\n",
       "      <td>0</td>\n",
       "      <td>...</td>\n",
       "      <td>1</td>\n",
       "      <td>0</td>\n",
       "      <td>0</td>\n",
       "      <td>0</td>\n",
       "      <td>0</td>\n",
       "      <td>0</td>\n",
       "      <td>0</td>\n",
       "      <td>0</td>\n",
       "      <td>0</td>\n",
       "      <td>0</td>\n",
       "    </tr>\n",
       "    <tr>\n",
       "      <th>AAACAGCCAAGGTAAC.1</th>\n",
       "      <td>0</td>\n",
       "      <td>0</td>\n",
       "      <td>4</td>\n",
       "      <td>0</td>\n",
       "      <td>0</td>\n",
       "      <td>0</td>\n",
       "      <td>0</td>\n",
       "      <td>0</td>\n",
       "      <td>0</td>\n",
       "      <td>0</td>\n",
       "      <td>...</td>\n",
       "      <td>4</td>\n",
       "      <td>0</td>\n",
       "      <td>0</td>\n",
       "      <td>0</td>\n",
       "      <td>0</td>\n",
       "      <td>0</td>\n",
       "      <td>0</td>\n",
       "      <td>0</td>\n",
       "      <td>0</td>\n",
       "      <td>0</td>\n",
       "    </tr>\n",
       "    <tr>\n",
       "      <th>AAACAGCCACATTAAC.1</th>\n",
       "      <td>0</td>\n",
       "      <td>0</td>\n",
       "      <td>2</td>\n",
       "      <td>0</td>\n",
       "      <td>0</td>\n",
       "      <td>0</td>\n",
       "      <td>0</td>\n",
       "      <td>0</td>\n",
       "      <td>0</td>\n",
       "      <td>0</td>\n",
       "      <td>...</td>\n",
       "      <td>7</td>\n",
       "      <td>1</td>\n",
       "      <td>0</td>\n",
       "      <td>0</td>\n",
       "      <td>0</td>\n",
       "      <td>0</td>\n",
       "      <td>0</td>\n",
       "      <td>0</td>\n",
       "      <td>0</td>\n",
       "      <td>0</td>\n",
       "    </tr>\n",
       "    <tr>\n",
       "      <th>AAACAGCCAGCATTAT.1</th>\n",
       "      <td>0</td>\n",
       "      <td>0</td>\n",
       "      <td>0</td>\n",
       "      <td>0</td>\n",
       "      <td>0</td>\n",
       "      <td>0</td>\n",
       "      <td>0</td>\n",
       "      <td>0</td>\n",
       "      <td>0</td>\n",
       "      <td>0</td>\n",
       "      <td>...</td>\n",
       "      <td>1</td>\n",
       "      <td>0</td>\n",
       "      <td>0</td>\n",
       "      <td>0</td>\n",
       "      <td>0</td>\n",
       "      <td>0</td>\n",
       "      <td>0</td>\n",
       "      <td>0</td>\n",
       "      <td>0</td>\n",
       "      <td>0</td>\n",
       "    </tr>\n",
       "    <tr>\n",
       "      <th>AAACAGCCATGAGCAG.1</th>\n",
       "      <td>0</td>\n",
       "      <td>0</td>\n",
       "      <td>1</td>\n",
       "      <td>0</td>\n",
       "      <td>0</td>\n",
       "      <td>0</td>\n",
       "      <td>0</td>\n",
       "      <td>0</td>\n",
       "      <td>0</td>\n",
       "      <td>0</td>\n",
       "      <td>...</td>\n",
       "      <td>1</td>\n",
       "      <td>0</td>\n",
       "      <td>0</td>\n",
       "      <td>0</td>\n",
       "      <td>0</td>\n",
       "      <td>0</td>\n",
       "      <td>0</td>\n",
       "      <td>0</td>\n",
       "      <td>0</td>\n",
       "      <td>0</td>\n",
       "    </tr>\n",
       "    <tr>\n",
       "      <th>...</th>\n",
       "      <td>...</td>\n",
       "      <td>...</td>\n",
       "      <td>...</td>\n",
       "      <td>...</td>\n",
       "      <td>...</td>\n",
       "      <td>...</td>\n",
       "      <td>...</td>\n",
       "      <td>...</td>\n",
       "      <td>...</td>\n",
       "      <td>...</td>\n",
       "      <td>...</td>\n",
       "      <td>...</td>\n",
       "      <td>...</td>\n",
       "      <td>...</td>\n",
       "      <td>...</td>\n",
       "      <td>...</td>\n",
       "      <td>...</td>\n",
       "      <td>...</td>\n",
       "      <td>...</td>\n",
       "      <td>...</td>\n",
       "      <td>...</td>\n",
       "    </tr>\n",
       "    <tr>\n",
       "      <th>TTTGTGTTCTACCTAT.1</th>\n",
       "      <td>0</td>\n",
       "      <td>0</td>\n",
       "      <td>3</td>\n",
       "      <td>0</td>\n",
       "      <td>1</td>\n",
       "      <td>0</td>\n",
       "      <td>0</td>\n",
       "      <td>0</td>\n",
       "      <td>0</td>\n",
       "      <td>0</td>\n",
       "      <td>...</td>\n",
       "      <td>3</td>\n",
       "      <td>0</td>\n",
       "      <td>0</td>\n",
       "      <td>0</td>\n",
       "      <td>0</td>\n",
       "      <td>0</td>\n",
       "      <td>0</td>\n",
       "      <td>0</td>\n",
       "      <td>0</td>\n",
       "      <td>0</td>\n",
       "    </tr>\n",
       "    <tr>\n",
       "      <th>TTTGTGTTCTCCATGC.1</th>\n",
       "      <td>0</td>\n",
       "      <td>0</td>\n",
       "      <td>0</td>\n",
       "      <td>0</td>\n",
       "      <td>0</td>\n",
       "      <td>0</td>\n",
       "      <td>0</td>\n",
       "      <td>0</td>\n",
       "      <td>0</td>\n",
       "      <td>0</td>\n",
       "      <td>...</td>\n",
       "      <td>0</td>\n",
       "      <td>0</td>\n",
       "      <td>0</td>\n",
       "      <td>0</td>\n",
       "      <td>0</td>\n",
       "      <td>0</td>\n",
       "      <td>0</td>\n",
       "      <td>0</td>\n",
       "      <td>0</td>\n",
       "      <td>0</td>\n",
       "    </tr>\n",
       "    <tr>\n",
       "      <th>TTTGTTGGTGATGAAA.1</th>\n",
       "      <td>0</td>\n",
       "      <td>0</td>\n",
       "      <td>0</td>\n",
       "      <td>0</td>\n",
       "      <td>0</td>\n",
       "      <td>0</td>\n",
       "      <td>0</td>\n",
       "      <td>0</td>\n",
       "      <td>0</td>\n",
       "      <td>0</td>\n",
       "      <td>...</td>\n",
       "      <td>0</td>\n",
       "      <td>0</td>\n",
       "      <td>0</td>\n",
       "      <td>0</td>\n",
       "      <td>0</td>\n",
       "      <td>0</td>\n",
       "      <td>0</td>\n",
       "      <td>0</td>\n",
       "      <td>0</td>\n",
       "      <td>0</td>\n",
       "    </tr>\n",
       "    <tr>\n",
       "      <th>TTTGTTGGTGGTTCTT.1</th>\n",
       "      <td>0</td>\n",
       "      <td>0</td>\n",
       "      <td>7</td>\n",
       "      <td>0</td>\n",
       "      <td>0</td>\n",
       "      <td>0</td>\n",
       "      <td>0</td>\n",
       "      <td>0</td>\n",
       "      <td>0</td>\n",
       "      <td>0</td>\n",
       "      <td>...</td>\n",
       "      <td>0</td>\n",
       "      <td>0</td>\n",
       "      <td>0</td>\n",
       "      <td>0</td>\n",
       "      <td>0</td>\n",
       "      <td>0</td>\n",
       "      <td>0</td>\n",
       "      <td>0</td>\n",
       "      <td>0</td>\n",
       "      <td>0</td>\n",
       "    </tr>\n",
       "    <tr>\n",
       "      <th>TTTGTTGGTTTACGTC.1</th>\n",
       "      <td>0</td>\n",
       "      <td>0</td>\n",
       "      <td>2</td>\n",
       "      <td>0</td>\n",
       "      <td>0</td>\n",
       "      <td>0</td>\n",
       "      <td>0</td>\n",
       "      <td>0</td>\n",
       "      <td>0</td>\n",
       "      <td>0</td>\n",
       "      <td>...</td>\n",
       "      <td>1</td>\n",
       "      <td>0</td>\n",
       "      <td>0</td>\n",
       "      <td>0</td>\n",
       "      <td>0</td>\n",
       "      <td>0</td>\n",
       "      <td>0</td>\n",
       "      <td>0</td>\n",
       "      <td>0</td>\n",
       "      <td>0</td>\n",
       "    </tr>\n",
       "  </tbody>\n",
       "</table>\n",
       "<p>10322 rows × 55487 columns</p>\n",
       "</div>"
      ],
      "text/plain": [
       "                    0      1      2      3      4      5      6      7      \\\n",
       "AAACAGCCAAATTCGT.1      0      0      1      0      0      0      0      0   \n",
       "AAACAGCCAAGGTAAC.1      0      0      4      0      0      0      0      0   \n",
       "AAACAGCCACATTAAC.1      0      0      2      0      0      0      0      0   \n",
       "AAACAGCCAGCATTAT.1      0      0      0      0      0      0      0      0   \n",
       "AAACAGCCATGAGCAG.1      0      0      1      0      0      0      0      0   \n",
       "...                   ...    ...    ...    ...    ...    ...    ...    ...   \n",
       "TTTGTGTTCTACCTAT.1      0      0      3      0      1      0      0      0   \n",
       "TTTGTGTTCTCCATGC.1      0      0      0      0      0      0      0      0   \n",
       "TTTGTTGGTGATGAAA.1      0      0      0      0      0      0      0      0   \n",
       "TTTGTTGGTGGTTCTT.1      0      0      7      0      0      0      0      0   \n",
       "TTTGTTGGTTTACGTC.1      0      0      2      0      0      0      0      0   \n",
       "\n",
       "                    8      9      ...  55477  55478  55479  55480  55481  \\\n",
       "AAACAGCCAAATTCGT.1      0      0  ...      1      0      0      0      0   \n",
       "AAACAGCCAAGGTAAC.1      0      0  ...      4      0      0      0      0   \n",
       "AAACAGCCACATTAAC.1      0      0  ...      7      1      0      0      0   \n",
       "AAACAGCCAGCATTAT.1      0      0  ...      1      0      0      0      0   \n",
       "AAACAGCCATGAGCAG.1      0      0  ...      1      0      0      0      0   \n",
       "...                   ...    ...  ...    ...    ...    ...    ...    ...   \n",
       "TTTGTGTTCTACCTAT.1      0      0  ...      3      0      0      0      0   \n",
       "TTTGTGTTCTCCATGC.1      0      0  ...      0      0      0      0      0   \n",
       "TTTGTTGGTGATGAAA.1      0      0  ...      0      0      0      0      0   \n",
       "TTTGTTGGTGGTTCTT.1      0      0  ...      0      0      0      0      0   \n",
       "TTTGTTGGTTTACGTC.1      0      0  ...      1      0      0      0      0   \n",
       "\n",
       "                    55482  55483  55484  55485  55486  \n",
       "AAACAGCCAAATTCGT.1      0      0      0      0      0  \n",
       "AAACAGCCAAGGTAAC.1      0      0      0      0      0  \n",
       "AAACAGCCACATTAAC.1      0      0      0      0      0  \n",
       "AAACAGCCAGCATTAT.1      0      0      0      0      0  \n",
       "AAACAGCCATGAGCAG.1      0      0      0      0      0  \n",
       "...                   ...    ...    ...    ...    ...  \n",
       "TTTGTGTTCTACCTAT.1      0      0      0      0      0  \n",
       "TTTGTGTTCTCCATGC.1      0      0      0      0      0  \n",
       "TTTGTTGGTGATGAAA.1      0      0      0      0      0  \n",
       "TTTGTTGGTGGTTCTT.1      0      0      0      0      0  \n",
       "TTTGTTGGTTTACGTC.1      0      0      0      0      0  \n",
       "\n",
       "[10322 rows x 55487 columns]"
      ]
     },
     "execution_count": 22,
     "metadata": {},
     "output_type": "execute_result"
    }
   ],
   "source": [
    "RNA_data = pd.read_csv('/data/User/sunym/temp/E165_2.csv')\n",
    "RNA_data = RNA_data.drop(columns=['Unnamed: 0'])\n",
    "RNA_data = RNA_data.T\n",
    "RNA_data"
   ]
  },
  {
   "cell_type": "code",
   "execution_count": 23,
   "id": "a1f534cd-057c-4ebb-ba1a-bc8dde8b7bdd",
   "metadata": {},
   "outputs": [
    {
     "data": {
      "text/plain": [
       "Index(['AAACAGCCAAATTCGT.1', 'AAACAGCCAAGGTAAC.1', 'AAACAGCCACATTAAC.1',\n",
       "       'AAACAGCCAGCATTAT.1', 'AAACAGCCATGAGCAG.1', 'AAACATGCAAGCTTTG.1',\n",
       "       'AAACATGCAAGTTATC.1', 'AAACATGCACAATACT.1', 'AAACATGCATAAACCT.1',\n",
       "       'AAACCAACAAGCCAGA.1',\n",
       "       ...\n",
       "       'TTTGTGTTCCGTAAAC.1', 'TTTGTGTTCCTAGTAA.1', 'TTTGTGTTCCTGGTGA.1',\n",
       "       'TTTGTGTTCGCGACAC.1', 'TTTGTGTTCGTTTCCA.1', 'TTTGTGTTCTACCTAT.1',\n",
       "       'TTTGTGTTCTCCATGC.1', 'TTTGTTGGTGATGAAA.1', 'TTTGTTGGTGGTTCTT.1',\n",
       "       'TTTGTTGGTTTACGTC.1'],\n",
       "      dtype='object', length=10322)"
      ]
     },
     "execution_count": 23,
     "metadata": {},
     "output_type": "execute_result"
    }
   ],
   "source": [
    "RNA_cell_list = RNA_data.index\n",
    "RNA_cell_list"
   ]
  },
  {
   "cell_type": "code",
   "execution_count": 24,
   "id": "5149cb47-8a14-48cd-a0cd-230f6fa50f87",
   "metadata": {},
   "outputs": [],
   "source": [
    "RNA_data = RNA_data.values"
   ]
  },
  {
   "cell_type": "markdown",
   "id": "c970070c-e872-4cc6-b341-40c31ac459be",
   "metadata": {},
   "source": [
    "### Scrublet"
   ]
  },
  {
   "cell_type": "code",
   "execution_count": 25,
   "id": "4dac7ac9-0585-46b6-ab37-d97d26102d93",
   "metadata": {},
   "outputs": [
    {
     "name": "stdout",
     "output_type": "stream",
     "text": [
      "Preprocessing...\n",
      "Simulating doublets...\n",
      "Embedding transcriptomes using PCA...\n",
      "Calculating doublet scores...\n",
      "Automatically set threshold at doublet score = 0.07\n",
      "Detected doublet rate = 46.2%\n",
      "Estimated detectable doublet fraction = 90.6%\n",
      "Overall doublet rate:\n",
      "\tExpected   = 8.0%\n",
      "\tEstimated  = 51.0%\n",
      "Elapsed time: 19.1 seconds\n"
     ]
    }
   ],
   "source": [
    "scrub = scr.Scrublet(RNA_data, expected_doublet_rate=0.08)\n",
    "doublet_scores, predicted_doublets = scrub.scrub_doublets(min_counts=2, \n",
    "                                                          min_cells=3, \n",
    "                                                          min_gene_variability_pctl=85, \n",
    "                                                          n_prin_comps=30)"
   ]
  },
  {
   "cell_type": "code",
   "execution_count": 26,
   "id": "185dd5a5-3cf8-4731-b4cb-8a616f177de3",
   "metadata": {},
   "outputs": [
    {
     "data": {
      "text/plain": [
       "(<Figure size 576x216 with 2 Axes>,\n",
       " array([<AxesSubplot:title={'center':'Observed transcriptomes'}, xlabel='Doublet score', ylabel='Prob. density'>,\n",
       "        <AxesSubplot:title={'center':'Simulated doublets'}, xlabel='Doublet score', ylabel='Prob. density'>],\n",
       "       dtype=object))"
      ]
     },
     "execution_count": 26,
     "metadata": {},
     "output_type": "execute_result"
    },
    {
     "data": {
      "image/png": "[encoded data removed]",
      "text/plain": [
       "<Figure size 576x216 with 2 Axes>"
      ]
     },
     "metadata": {
      "needs_background": "light"
     },
     "output_type": "display_data"
    }
   ],
   "source": [
    "scrub.plot_histogram()"
   ]
  },
  {
   "cell_type": "code",
   "execution_count": 27,
   "id": "62b29d5f-3f4d-4a7c-89b0-a785a7ff972c",
   "metadata": {},
   "outputs": [
    {
     "name": "stdout",
     "output_type": "stream",
     "text": [
      "Detected doublet rate = 27.0%\n",
      "Estimated detectable doublet fraction = 80.0%\n",
      "Overall doublet rate:\n",
      "\tExpected   = 8.0%\n",
      "\tEstimated  = 33.7%\n"
     ]
    },
    {
     "data": {
      "text/plain": [
       "array([False, False,  True, ..., False, False, False])"
      ]
     },
     "execution_count": 27,
     "metadata": {},
     "output_type": "execute_result"
    }
   ],
   "source": [
    "scrub.call_doublets(threshold=0.14)"
   ]
  },
  {
   "cell_type": "code",
   "execution_count": 28,
   "id": "7476399a-8510-4227-a701-4f3b3439fe6b",
   "metadata": {},
   "outputs": [
    {
     "data": {
      "text/plain": [
       "(<Figure size 576x216 with 2 Axes>,\n",
       " array([<AxesSubplot:title={'center':'Observed transcriptomes'}, xlabel='Doublet score', ylabel='Prob. density'>,\n",
       "        <AxesSubplot:title={'center':'Simulated doublets'}, xlabel='Doublet score', ylabel='Prob. density'>],\n",
       "       dtype=object))"
      ]
     },
     "execution_count": 28,
     "metadata": {},
     "output_type": "execute_result"
    },
    {
     "data": {
      "image/png": "[encoded data removed]",
      "text/plain": [
       "<Figure size 576x216 with 2 Axes>"
      ]
     },
     "metadata": {
      "needs_background": "light"
     },
     "output_type": "display_data"
    }
   ],
   "source": [
    "scrub.plot_histogram()"
   ]
  },
  {
   "cell_type": "code",
   "execution_count": 29,
   "id": "6691d878-fb76-42fb-b4f4-423c15dcc276",
   "metadata": {},
   "outputs": [
    {
     "name": "stdout",
     "output_type": "stream",
     "text": [
      "Running UMAP...\n",
      "Done.\n"
     ]
    },
    {
     "data": {
      "image/png": "[encoded data removed]",
      "text/plain": [
       "<Figure size 576x288 with 3 Axes>"
      ]
     },
     "metadata": {
      "needs_background": "light"
     },
     "output_type": "display_data"
    }
   ],
   "source": [
    "print('Running UMAP...')\n",
    "scrub.set_embedding('UMAP', scr.get_umap(scrub.manifold_obs_, 10, min_dist=0.3))\n",
    "\n",
    "# # Uncomment to run tSNE - slow\n",
    "# print('Running tSNE...')\n",
    "# scrub.set_embedding('tSNE', scr.get_tsne(scrub.manifold_obs_, angle=0.9))\n",
    "\n",
    "# # Uncomment to run force layout - slow\n",
    "# print('Running ForceAtlas2...')\n",
    "# scrub.set_embedding('FA', scr.get_force_layout(scrub.manifold_obs_, n_neighbors=5. n_iter=1000))\n",
    "    \n",
    "print('Done.')\n",
    "\n",
    "scrub.plot_embedding('UMAP', order_points=True);\n",
    "\n",
    "# scrub.plot_embedding('tSNE', order_points=True);\n",
    "# scrub.plot_embedding('FA', order_points=True);"
   ]
  },
  {
   "cell_type": "code",
   "execution_count": 30,
   "id": "90ad9dba-5e69-44aa-92e8-b38b61b75b90",
   "metadata": {},
   "outputs": [],
   "source": [
    "a = np.array([RNA_cell_list,doublet_scores,predicted_doublets])\n",
    "a = pd.DataFrame({'barcodes':a[0,:],'score':a[1,:],'prediction':a[2,:]})\n",
    "a.to_csv('/data/User/sunym/project/Brain/res/step_55_fig_220907/E165_2_scrublet.csv', index=False,header=True)"
   ]
  }
 ],
 "metadata": {
  "kernelspec": {
   "display_name": "Python_3.9.7",
   "language": "python",
   "name": "py397"
  },
  "language_info": {
   "codemirror_mode": {
    "name": "ipython",
    "version": 3
   },
   "file_extension": ".py",
   "mimetype": "text/x-python",
   "name": "python",
   "nbconvert_exporter": "python",
   "pygments_lexer": "ipython3",
   "version": "3.9.7"
  }
 },
 "nbformat": 4,
 "nbformat_minor": 5
}
